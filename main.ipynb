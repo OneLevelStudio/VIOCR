{
 "cells": [
  {
   "cell_type": "code",
   "execution_count": null,
   "metadata": {},
   "outputs": [],
   "source": [
    "from lib.VIOCR.VIOCR import Process_VIOCR as VIOCR"
   ]
  },
  {
   "cell_type": "code",
   "execution_count": null,
   "metadata": {},
   "outputs": [],
   "source": [
    "img_path = \"examples/test.jpg\"\n",
    "res = VIOCR(\n",
    "    img_path, \n",
    "    bbox_padding=2, \n",
    "    same_line_max_bbox_y_diff=10, \n",
    "    new_line_char=\"\\n\", \n",
    "    same_line_char=\" | \", \n",
    "    print_debug=False\n",
    ")\n",
    "print(res)"
   ]
  }
 ],
 "metadata": {
  "kernelspec": {
   "display_name": "venv",
   "language": "python",
   "name": "python3"
  },
  "language_info": {
   "codemirror_mode": {
    "name": "ipython",
    "version": 3
   },
   "file_extension": ".py",
   "mimetype": "text/x-python",
   "name": "python",
   "nbconvert_exporter": "python",
   "pygments_lexer": "ipython3",
   "version": "3.10.10"
  }
 },
 "nbformat": 4,
 "nbformat_minor": 2
}
