{
 "cells": [
  {
   "cell_type": "code",
   "execution_count": null,
   "metadata": {},
   "outputs": [],
   "source": [
    "from lib.PaddleOCR.PaddleOCR import Process_PaddleOCR as PaddleOCR\n",
    "from lib.VietOCR.VietOCR import Process_VietOCR as VietOCR\n",
    "from PIL import Image"
   ]
  },
  {
   "cell_type": "code",
   "execution_count": null,
   "metadata": {},
   "outputs": [],
   "source": [
    "img_path = \"examples/test.jpg\"\n",
    "img_og = Image.open(img_path)\n",
    "\n",
    "ocr_bboxes, _ = PaddleOCR(img_path)\n",
    "ocr_texts = []\n",
    "for bb in ocr_bboxes:\n",
    "    img_crop_bbox = img_og.crop((bb[0][0], bb[0][1], bb[1][0], bb[1][1]))\n",
    "    s = VietOCR(img_crop_bbox)\n",
    "    ocr_texts.append(s)\n",
    "\n",
    "print(ocr_texts)"
   ]
  }
 ],
 "metadata": {
  "kernelspec": {
   "display_name": "venv",
   "language": "python",
   "name": "python3"
  },
  "language_info": {
   "codemirror_mode": {
    "name": "ipython",
    "version": 3
   },
   "file_extension": ".py",
   "mimetype": "text/x-python",
   "name": "python",
   "nbconvert_exporter": "python",
   "pygments_lexer": "ipython3",
   "version": "3.10.10"
  }
 },
 "nbformat": 4,
 "nbformat_minor": 2
}
