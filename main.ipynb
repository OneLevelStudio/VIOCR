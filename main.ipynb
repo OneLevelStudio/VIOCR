{
 "cells": [
  {
   "cell_type": "code",
   "execution_count": 1,
   "metadata": {},
   "outputs": [],
   "source": [
    "from lib.VIOCR.VIOCR import Process_VIOCR as VIOCR"
   ]
  },
  {
   "cell_type": "code",
   "execution_count": 2,
   "metadata": {},
   "outputs": [],
   "source": [
    "img_path = \"examples/test.jpg\"\n",
    "res = VIOCR(\n",
    "    img_path, \n",
    "    bbox_padding=2, \n",
    "    same_line_max_bbox_y_diff=10, \n",
    "    new_line_char=\"\\n\", \n",
    "    same_line_char=\" | \", \n",
    "    print_debug=False\n",
    ")\n",
    "# print(res)\n",
    "\n",
    "assert res == \"\"\"A: 96M Hoang Quoc Viet St., Phu My ward, Dist 7, HCMC\n",
    "TRUNG HAU | T: 84.8 3785 3765 [F: 84.8 3785 3766\n",
    "W: www trunghaugroup.com\n",
    "PHIẾU YÊU CẦU VẬT TƯ\n",
    "CÔNG TRÌNH: Nhà máy sản xuất thùng carton và pallet KAIFUDA VIỆT NAM | só: 03\n",
    "HẠNG MỤC: ÉP CỌC NHÀ XƯỞNG | Ngày 22 tháng 01 năm 2025\n",
    "Địa Chỉ: Lô A9.9, đường N4, KCN Thành Thành công, An Hoàng, Tây Ninh\n",
    "HĐ số:\n",
    "Khối lượng\n",
    "Số | TT | Hạng mục/ Tên vật tư | dạng, kích thước | Chủng loại, hình | tiêu chuẩn | (mm) | Đơn vị | Theo bản vẽ | dự toán/dự | kiến hoàn | thành CT | Khối lượng | đã cấp | Khối lượng | yêu cầu lần | này | Ngày bắt đầu | cấp | Ghi chú\n",
    "2 | 1 | Thép D6 | Thép D8 | CB 240T | kg | kg | 600 | 800 | 800 | 600\n",
    "3 | Thép D10, L-11.7m | cây | 402 | 402\n",
    "4 | Thép D12, L-11.7m | cây | 1,974 | 1,974\n",
    "5 | Thép D14, L-11.7m | cây | 25 | 25\n",
    "6 | Thép D16, L-11.7m | cây | 6 | 6 | 03/02/2025\n",
    "T | Thép D18,L-11.7m | CB400 / SD390 | cây | 30 | 30\n",
    "8 | Thép D20, L-11.7m | cây | 2 | 2\n",
    "9 | Thép D22, L-11.7m | cây | 148 | 148\n",
    "10 | Thép D25, L-11.7m | cây\n",
    "11 | Thép D28, L-11.7m | cây\n",
    "12 | Kêm buộc | kg | 500 | 500\n",
    "Tổng KL theo BOQ | tấn | 223.24\n",
    "Tổng KL thi công(hao hụt x1.03) | tấn | 229.94\n",
    "KL đặt đợt 1 (đợt này) | tấn | 31.7\n",
    "BAN CHỈ HUY CÔNG TRƯỜNG TH | PHÒNG THI CÔNG\n",
    "Người lập | Chỉ huy trưởng | Người kiếm | GĐ.Dự án\n",
    "Trần Vũ Hưng | Đỗ Minh Vương\"\"\""
   ]
  }
 ],
 "metadata": {
  "kernelspec": {
   "display_name": "venv",
   "language": "python",
   "name": "python3"
  },
  "language_info": {
   "codemirror_mode": {
    "name": "ipython",
    "version": 3
   },
   "file_extension": ".py",
   "mimetype": "text/x-python",
   "name": "python",
   "nbconvert_exporter": "python",
   "pygments_lexer": "ipython3",
   "version": "3.10.10"
  }
 },
 "nbformat": 4,
 "nbformat_minor": 2
}
